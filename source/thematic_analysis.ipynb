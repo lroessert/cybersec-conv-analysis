{
 "cells": [
  {
   "metadata": {},
   "cell_type": "markdown",
   "source": "# Thematic analysis",
   "id": "9a3b13c57b31eef0"
  },
  {
   "metadata": {
    "ExecuteTime": {
     "end_time": "2025-08-28T10:56:53.962944Z",
     "start_time": "2025-08-28T10:56:53.946936Z"
    }
   },
   "cell_type": "code",
   "source": [
    "import pandas as pd\n",
    "from pathlib import Path\n",
    "\n",
    "CSV_PATH = Path(\"../data/results_all_cleaned.csv\")\n",
    "df = pd.read_csv(CSV_PATH)\n"
   ],
   "id": "7b03ad4bc22ee229",
   "outputs": [],
   "execution_count": 6
  },
  {
   "metadata": {},
   "cell_type": "markdown",
   "source": "## Q2: Extract conversation descriptions and save as .txt file\n",
   "id": "c2df81e98918759b"
  },
  {
   "cell_type": "code",
   "id": "initial_id",
   "metadata": {
    "collapsed": true,
    "ExecuteTime": {
     "end_time": "2025-08-28T10:56:53.984223Z",
     "start_time": "2025-08-28T10:56:53.976222Z"
    }
   },
   "source": [
    "OUT_PATH = Path(\"../data/thematic-analysis/descriptions/conv_descriptions.txt\")\n",
    "separator = \"\\n----\\n\"\n",
    "\n",
    "def get_column_by_name(columns, target):\n",
    "    for col in columns:\n",
    "        if col.strip().lower() == target.strip().lower():\n",
    "            return col\n",
    "    return None\n",
    "\n",
    "q2_col = get_column_by_name(df.columns, \"Q2\")\n",
    "q19_col = get_column_by_name(df.columns, \"Q19\")\n",
    "selected_cols = [col for col in [q2_col, q19_col] if col]\n",
    "\n",
    "# Collect texts while preserving formatting\n",
    "texts = []\n",
    "for col in selected_cols:\n",
    "    for val in df[col]:\n",
    "        val_str = str(val) if not isinstance(val, str) else val\n",
    "        if val_str and val_str.strip().lower() not in {\"nan\", \"none\"}:\n",
    "            texts.append(val_str)\n",
    "\n",
    "# Save joined file\n",
    "OUT_PATH.write_text(separator.join(texts), encoding=\"utf-8\")\n",
    "print(f\"Saved {len(texts)} entries to {OUT_PATH}\")\n"
   ],
   "outputs": [
    {
     "name": "stdout",
     "output_type": "stream",
     "text": [
      "Saved 230 entries to ..\\data\\conv_descriptions.txt\n"
     ]
    }
   ],
   "execution_count": 7
  },
  {
   "metadata": {},
   "cell_type": "markdown",
   "source": "## Q12 & Q14: Extract emotion explainations and save as .txt file",
   "id": "fe3487253946f598"
  },
  {
   "metadata": {
    "ExecuteTime": {
     "end_time": "2025-08-28T10:56:54.004591Z",
     "start_time": "2025-08-28T10:56:53.996293Z"
    }
   },
   "cell_type": "code",
   "source": [
    "OUT_PATH = Path(\"../data/thematic-analysis/descriptions/self_emotions_descriptions.txt\")\n",
    "separator = \"\\n----\\n\"\n",
    "\n",
    "def get_column_by_name(columns, target):\n",
    "    for col in columns:\n",
    "        if col.strip().lower() == target.strip().lower():\n",
    "            return col\n",
    "    return None\n",
    "\n",
    "q12_col = get_column_by_name(df.columns, \"Q12\")\n",
    "q29_col = get_column_by_name(df.columns, \"Q29\")\n",
    "selected_cols = [col for col in [q12_col, q29_col] if col]\n",
    "\n",
    "# Collect texts while preserving formatting\n",
    "texts = []\n",
    "for col in selected_cols:\n",
    "    for val in df[col]:\n",
    "        val_str = str(val) if not isinstance(val, str) else val\n",
    "        if val_str and val_str.strip().lower() not in {\"nan\", \"none\"}:\n",
    "            texts.append(val_str)\n",
    "\n",
    "# Save joined file\n",
    "OUT_PATH.write_text(separator.join(texts), encoding=\"utf-8\")\n",
    "print(f\"Saved {len(texts)} entries to {OUT_PATH}\")\n"
   ],
   "id": "faf48333402c46e9",
   "outputs": [
    {
     "name": "stdout",
     "output_type": "stream",
     "text": [
      "Saved 229 entries to ..\\data\\self_emotions_descriptions.txt\n"
     ]
    }
   ],
   "execution_count": 8
  },
  {
   "metadata": {
    "ExecuteTime": {
     "end_time": "2025-08-28T10:56:54.024495Z",
     "start_time": "2025-08-28T10:56:54.015599Z"
    }
   },
   "cell_type": "code",
   "source": [
    "OUT_PATH = Path(\"../data/thematic-analysis/descriptions/other_emotions_descriptions.txt\")\n",
    "separator = \"\\n----\\n\"\n",
    "\n",
    "def get_column_by_name(columns, target):\n",
    "    for col in columns:\n",
    "        if col.strip().lower() == target.strip().lower():\n",
    "            return col\n",
    "    return None\n",
    "\n",
    "q14_col = get_column_by_name(df.columns, \"Q14\")\n",
    "q31_col = get_column_by_name(df.columns, \"Q31\")\n",
    "selected_cols = [col for col in [q14_col, q31_col] if col]\n",
    "\n",
    "# Collect texts while preserving formatting\n",
    "texts = []\n",
    "for col in selected_cols:\n",
    "    for val in df[col]:\n",
    "        val_str = str(val) if not isinstance(val, str) else val\n",
    "        if val_str and val_str.strip().lower() not in {\"nan\", \"none\"}:\n",
    "            texts.append(val_str)\n",
    "\n",
    "# Save joined file\n",
    "OUT_PATH.write_text(separator.join(texts), encoding=\"utf-8\")\n",
    "print(f\"Saved {len(texts)} entries to {OUT_PATH}\")\n"
   ],
   "id": "ee50472baa2ebdae",
   "outputs": [
    {
     "name": "stdout",
     "output_type": "stream",
     "text": [
      "Saved 230 entries to ..\\data\\other_emotions_descriptions.txt\n"
     ]
    }
   ],
   "execution_count": 9
  },
  {
   "metadata": {},
   "cell_type": "markdown",
   "source": "## Q16: Extract behavior changes and save as .txt file",
   "id": "40ccc87ad89cda36"
  },
  {
   "metadata": {
    "ExecuteTime": {
     "end_time": "2025-08-28T10:56:54.041509Z",
     "start_time": "2025-08-28T10:56:54.032502Z"
    }
   },
   "cell_type": "code",
   "source": [
    "OUT_PATH = Path(\"../data/thematic-analysis/descriptions/behavior_changes_descriptions.txt\")\n",
    "separator = \"\\n----\\n\"\n",
    "\n",
    "def get_column_by_name(columns, target):\n",
    "    for col in columns:\n",
    "        if col.strip().lower() == target.strip().lower():\n",
    "            return col\n",
    "    return None\n",
    "\n",
    "q16_col = get_column_by_name(df.columns, \"Q16\")\n",
    "q33_col = get_column_by_name(df.columns, \"Q33\")\n",
    "selected_cols = [col for col in [q16_col, q33_col] if col]\n",
    "\n",
    "# Collect texts while preserving formatting\n",
    "texts = []\n",
    "for col in selected_cols:\n",
    "    for val in df[col]:\n",
    "        val_str = str(val) if not isinstance(val, str) else val\n",
    "        if val_str and val_str.strip().lower() not in {\"nan\", \"none\"}:\n",
    "            texts.append(val_str)\n",
    "\n",
    "# Save joined file\n",
    "OUT_PATH.write_text(separator.join(texts), encoding=\"utf-8\")\n",
    "print(f\"Saved {len(texts)} entries to {OUT_PATH}\")\n"
   ],
   "id": "44259958beee2ba",
   "outputs": [
    {
     "name": "stdout",
     "output_type": "stream",
     "text": [
      "Saved 71 entries to ..\\data\\behavior_changes_descriptions.txt\n"
     ]
    }
   ],
   "execution_count": 10
  }
 ],
 "metadata": {
  "kernelspec": {
   "display_name": "Python 3",
   "language": "python",
   "name": "python3"
  },
  "language_info": {
   "codemirror_mode": {
    "name": "ipython",
    "version": 2
   },
   "file_extension": ".py",
   "mimetype": "text/x-python",
   "name": "python",
   "nbconvert_exporter": "python",
   "pygments_lexer": "ipython2",
   "version": "2.7.6"
  }
 },
 "nbformat": 4,
 "nbformat_minor": 5
}
