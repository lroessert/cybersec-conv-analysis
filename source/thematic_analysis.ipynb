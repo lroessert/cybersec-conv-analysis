{
 "cells": [
  {
   "metadata": {},
   "cell_type": "markdown",
   "source": "# Thematic analysis",
   "id": "9a3b13c57b31eef0"
  },
  {
   "metadata": {
    "ExecuteTime": {
     "end_time": "2025-08-14T14:23:29.924266Z",
     "start_time": "2025-08-14T14:23:29.910172Z"
    }
   },
   "cell_type": "code",
   "source": [
    "import pandas as pd\n",
    "from pathlib import Path\n",
    "\n",
    "CSV_PATH = Path(\"../data/results_all_cleaned.csv\")\n",
    "df = pd.read_csv(CSV_PATH)\n"
   ],
   "id": "7b03ad4bc22ee229",
   "outputs": [],
   "execution_count": 21
  },
  {
   "metadata": {},
   "cell_type": "markdown",
   "source": "## Extract conversation descriptions and save as .txt file\n",
   "id": "c2df81e98918759b"
  },
  {
   "cell_type": "code",
   "id": "initial_id",
   "metadata": {
    "collapsed": true,
    "ExecuteTime": {
     "end_time": "2025-08-14T14:23:29.956339Z",
     "start_time": "2025-08-14T14:23:29.935297Z"
    }
   },
   "source": [
    "OUT_PATH = Path(\"../data/conv_desciption_texts.txt\")\n",
    "separator = \"\\n----\\n\"\n",
    "\n",
    "# Load without dropping formatting\n",
    "df = pd.read_csv(CSV_PATH, dtype=str, keep_default_na=False)\n",
    "\n",
    "# Helper to match columns ignoring case/whitespace\n",
    "def get_column_by_name(columns, target):\n",
    "    for col in columns:\n",
    "        if col.strip().lower() == target.strip().lower():\n",
    "            return col\n",
    "    return None\n",
    "\n",
    "# Get Q2 and Q19\n",
    "q2_col = get_column_by_name(df.columns, \"Q2\")\n",
    "q19_col = get_column_by_name(df.columns, \"Q19\")\n",
    "selected_cols = [col for col in [q2_col, q19_col] if col]\n",
    "\n",
    "# Collect texts while preserving formatting\n",
    "texts = []\n",
    "for col in selected_cols:\n",
    "    for val in df[col]:\n",
    "        val_str = str(val) if not isinstance(val, str) else val\n",
    "        if val_str and val_str.strip().lower() not in {\"nan\", \"none\"}:\n",
    "            texts.append(val_str)\n",
    "\n",
    "# Save joined file\n",
    "OUT_PATH.write_text(separator.join(texts), encoding=\"utf-8\")\n",
    "print(f\"Saved {len(texts)} entries to {OUT_PATH}\")\n"
   ],
   "outputs": [
    {
     "name": "stdout",
     "output_type": "stream",
     "text": [
      "Saved 230 entries to ..\\data\\conv_desciption_texts.txt\n"
     ]
    }
   ],
   "execution_count": 22
  }
 ],
 "metadata": {
  "kernelspec": {
   "display_name": "Python 3",
   "language": "python",
   "name": "python3"
  },
  "language_info": {
   "codemirror_mode": {
    "name": "ipython",
    "version": 2
   },
   "file_extension": ".py",
   "mimetype": "text/x-python",
   "name": "python",
   "nbconvert_exporter": "python",
   "pygments_lexer": "ipython2",
   "version": "2.7.6"
  }
 },
 "nbformat": 4,
 "nbformat_minor": 5
}
